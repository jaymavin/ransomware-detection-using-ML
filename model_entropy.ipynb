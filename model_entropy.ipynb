{
 "cells": [
  {
   "cell_type": "code",
   "execution_count": 10,
   "source": [
    "import numpy as np\n",
    "import pandas as pd\n",
    "import sklearn.ensemble as sk\n",
    "from sklearn.ensemble import RandomForestClassifier\n",
    "from sklearn.datasets import make_classification\n",
    "from sklearn.model_selection import train_test_split\n",
    "from sklearn.preprocessing import StandardScaler\n",
    "from sklearn import svm\n",
    "from sklearn.neural_network import MLPClassifier\n",
    "from sklearn.preprocessing import StandardScaler\n",
    "from sklearn.metrics import confusion_matrix, accuracy_score, recall_score, precision_score\n",
    "from sklearn.neighbors import KNeighborsClassifier\n",
    "from sklearn import tree\n",
    "import joblib\n",
    "from sklearn.feature_selection import SelectFromModel\n",
    "import pickle\n",
    "from sklearn.metrics import roc_curve\n",
    "from sklearn.metrics import roc_auc_score\n",
    "from matplotlib import pyplot\n",
    "from sklearn.preprocessing import StandardScaler"
   ],
   "outputs": [],
   "metadata": {}
  },
  {
   "cell_type": "code",
   "execution_count": 11,
   "source": [
    "# reading data\n",
    "df = pd.read_csv('dataset/windowsize/combined_20.csv', sep=',')\n",
    "df.head()"
   ],
   "outputs": [
    {
     "output_type": "execute_result",
     "data": {
      "text/plain": [
       "       LBA  Entropy #1  Entropy #2  Class       Name\n",
       "0  2288568    0.450898    0.450898      0  Malicious\n",
       "1  2288576    0.519940    0.519940      0  Malicious\n",
       "2  2288584    0.526247    0.526247      0  Malicious\n",
       "3  2288592    0.512078    0.512078      0  Malicious\n",
       "4  2288600    0.460444    0.460444      0  Malicious"
      ],
      "text/html": [
       "<div>\n",
       "<style scoped>\n",
       "    .dataframe tbody tr th:only-of-type {\n",
       "        vertical-align: middle;\n",
       "    }\n",
       "\n",
       "    .dataframe tbody tr th {\n",
       "        vertical-align: top;\n",
       "    }\n",
       "\n",
       "    .dataframe thead th {\n",
       "        text-align: right;\n",
       "    }\n",
       "</style>\n",
       "<table border=\"1\" class=\"dataframe\">\n",
       "  <thead>\n",
       "    <tr style=\"text-align: right;\">\n",
       "      <th></th>\n",
       "      <th>LBA</th>\n",
       "      <th>Entropy #1</th>\n",
       "      <th>Entropy #2</th>\n",
       "      <th>Class</th>\n",
       "      <th>Name</th>\n",
       "    </tr>\n",
       "  </thead>\n",
       "  <tbody>\n",
       "    <tr>\n",
       "      <th>0</th>\n",
       "      <td>2288568</td>\n",
       "      <td>0.450898</td>\n",
       "      <td>0.450898</td>\n",
       "      <td>0</td>\n",
       "      <td>Malicious</td>\n",
       "    </tr>\n",
       "    <tr>\n",
       "      <th>1</th>\n",
       "      <td>2288576</td>\n",
       "      <td>0.519940</td>\n",
       "      <td>0.519940</td>\n",
       "      <td>0</td>\n",
       "      <td>Malicious</td>\n",
       "    </tr>\n",
       "    <tr>\n",
       "      <th>2</th>\n",
       "      <td>2288584</td>\n",
       "      <td>0.526247</td>\n",
       "      <td>0.526247</td>\n",
       "      <td>0</td>\n",
       "      <td>Malicious</td>\n",
       "    </tr>\n",
       "    <tr>\n",
       "      <th>3</th>\n",
       "      <td>2288592</td>\n",
       "      <td>0.512078</td>\n",
       "      <td>0.512078</td>\n",
       "      <td>0</td>\n",
       "      <td>Malicious</td>\n",
       "    </tr>\n",
       "    <tr>\n",
       "      <th>4</th>\n",
       "      <td>2288600</td>\n",
       "      <td>0.460444</td>\n",
       "      <td>0.460444</td>\n",
       "      <td>0</td>\n",
       "      <td>Malicious</td>\n",
       "    </tr>\n",
       "  </tbody>\n",
       "</table>\n",
       "</div>"
      ]
     },
     "metadata": {},
     "execution_count": 11
    }
   ],
   "metadata": {}
  },
  {
   "cell_type": "code",
   "execution_count": 12,
   "source": [
    "# data preprocessing\n",
    "data = df.drop(['LBA', 'Class', 'Name'], axis=1)\n",
    "label = df['Class'].values\n",
    "x = np.array(data)\n",
    "y = np.array(label)\n",
    "y = np.reshape(label, (-1, 1))\n",
    "\n",
    "# apply normalization operation for numerical stability\n",
    "standardizer = StandardScaler()\n",
    "x = standardizer.fit_transform(x)"
   ],
   "outputs": [],
   "metadata": {}
  },
  {
   "cell_type": "code",
   "execution_count": 13,
   "source": [
    "print('Target variables  : ', np.unique(df['Name']))\n",
    "\n",
    "(unique, counts) = np.unique(df['Class'], return_counts=True)\n",
    "\n",
    "print('Unique values of the target variable', unique)\n",
    "print('Counts of the target variable :', counts)"
   ],
   "outputs": [
    {
     "output_type": "stream",
     "name": "stdout",
     "text": [
      "Target variables  :  ['Benign' 'Malicious']\n",
      "Unique values of the target variable [0 1]\n",
      "Counts of the target variable : [75792 51319]\n"
     ]
    }
   ],
   "metadata": {}
  },
  {
   "cell_type": "code",
   "execution_count": 14,
   "source": [
    "# splitting data in training and testing sets\n",
    "x_train, x_test, y_train, y_test = train_test_split(x, y, \n",
    "test_size = 0.20, random_state = 0)\n",
    "print('Training Features Shape:', x_train.shape)\n",
    "print('Training Labels Shape:', y_train.shape)\n",
    "print('Testing Features Shape:', x_test.shape)\n",
    "print('Testing Labels Shape:', y_test.shape)\n",
    "\n",
    "sc = StandardScaler()\n",
    "x_train = sc.fit_transform(x_train)\n",
    "x_test = sc.transform(x_test)"
   ],
   "outputs": [
    {
     "output_type": "stream",
     "name": "stdout",
     "text": [
      "Training Features Shape: (101688, 3)\n",
      "Training Labels Shape: (101688, 1)\n",
      "Testing Features Shape: (25423, 3)\n",
      "Testing Labels Shape: (25423, 1)\n"
     ]
    }
   ],
   "metadata": {}
  },
  {
   "cell_type": "code",
   "execution_count": 15,
   "source": [
    "# train and evaluate model using RF\n",
    "x, y = make_classification(n_samples=5000, n_features=2,\n",
    "                           n_informative=2, n_redundant=0,\n",
    "                           random_state=0, shuffle=False)\n",
    "clf = RandomForestClassifier(n_estimators=10,max_depth=10)\n",
    "clf.fit(x_train, y_train)\n",
    "y_score = clf.fit(x_train, y_train)\n",
    "score_rf = clf.score(x_train, y_train)\n",
    "predictions = clf.predict(x_test)\n",
    "print(\"Score:\" ,round(score_rf * 100, 2),'%')\n",
    "\n",
    "cm = confusion_matrix(y_test, predictions)\n",
    "\n",
    "TN, FP, FN, TP = confusion_matrix(y_test, predictions).ravel()\n",
    "\n",
    "print('True Positive(TP)  = ', TP)\n",
    "print('False Positive(FP) = ', FP)\n",
    "print('True Negative(TN)  = ', TN)\n",
    "print('False Negative(FN) = ', FN)\n",
    "\n",
    "TPR = TP/(TP+FN)\n",
    "TNR = TN/(TN+FP)\n",
    "FPR = FP/(FP+TN)\n",
    "FNR = FN/(FN+TP)\n",
    "\n",
    "print('True Postive Rate (TPR) = ', TPR)\n",
    "print('True Negative Rate (TNR) = ', TNR)\n",
    "print('False Postive Rate (FPR) = ', FPR)\n",
    "print('False Negative Rate (FNR) = ', FNR)\n",
    "\n",
    "precision = precision_score(predictions, y_test)\n",
    "recall = recall_score(predictions, y_test)\n",
    "f1 = 2 * (precision * recall) / (precision + recall)\n",
    "\n",
    "print('Accuracy score: ', accuracy_score(predictions, y_test))\n",
    "print('Precision score', precision)\n",
    "print('Recall score: ', recall)\n",
    "print('F1 score: ', f1)\n",
    "\n",
    "accuracy =  (TP+TN) /(TP+FP+TN+FN)\n",
    "\n",
    "print('Accuracy of the binary classification = {:0.3f}'.format(accuracy))\n",
    "\n",
    "print(f'model score on training data: {clf.score(x_train, y_train)}')\n",
    "print(f'model score on testing data: {clf.score(x_test, y_test)}')\n",
    "\n",
    "# get feature importance\n",
    "importance = clf.feature_importances_\n",
    "\n",
    "for i,v in enumerate(importance):\n",
    "\tprint('Feature: %0d, Score: %.5f' % (i,v))\n",
    "\n",
    "y_true = np.array([0,1])\n",
    "\n",
    "# ROC and AUC\n",
    "random_classifier = [0 for x in range(len(y_test))]\n",
    "rf_probs = clf.predict_proba(x_test)\n",
    "rf_probs = rf_probs[:, 1]\n",
    "\n",
    "# calculate scores\n",
    "roc_auc = roc_auc_score(y_test, random_classifier)\n",
    "rf_auc = roc_auc_score(y_test, rf_probs)\n",
    "\n",
    "print('RF ROC curve: ROC AUC=%.3f' % (rf_auc))\n",
    "\n",
    "roc_fpr, roc_tpr, _ = roc_curve(y_test, random_classifier)\n",
    "rf_fpr, rf_tpr, _ = roc_curve(y_test, rf_probs)\n",
    "\n",
    "pyplot.title(\"ROC of Random Forest Algorithm\")\n",
    "pyplot.plot(roc_fpr, roc_tpr, linestyle='--')\n",
    "pyplot.plot(rf_fpr, rf_tpr, linestyle='-', label='AUC = 0.995')\n",
    "\n",
    "# save the model\n",
    "to_persist = ([x_test], [predictions])\n",
    "joblib.dump(to_persist,'dataset/Model/rf_model.joblib')\n",
    "\n",
    "pyplot.xlabel('False Positive Rate')\n",
    "pyplot.ylabel('True Positive Rate')\n",
    "\n",
    "pyplot.legend()\n",
    "\n",
    "pyplot.show()"
   ],
   "outputs": [
    {
     "output_type": "stream",
     "name": "stderr",
     "text": [
      "/var/folders/nm/f1svv8090512jqvp27dkj_mr0000gn/T/ipykernel_2792/3793134265.py:6: DataConversionWarning: A column-vector y was passed when a 1d array was expected. Please change the shape of y to (n_samples,), for example using ravel().\n",
      "  clf.fit(x_train, y_train)\n",
      "/var/folders/nm/f1svv8090512jqvp27dkj_mr0000gn/T/ipykernel_2792/3793134265.py:7: DataConversionWarning: A column-vector y was passed when a 1d array was expected. Please change the shape of y to (n_samples,), for example using ravel().\n",
      "  y_score = clf.fit(x_train, y_train)\n"
     ]
    },
    {
     "output_type": "stream",
     "name": "stdout",
     "text": [
      "Score: 98.72 %\n",
      "True Positive(TP)  =  9937\n",
      "False Positive(FP) =  24\n",
      "True Negative(TN)  =  15111\n",
      "False Negative(FN) =  351\n",
      "True Postive Rate (TPR) =  0.9658825816485226\n",
      "True Negative Rate (TNR) =  0.998414271555996\n",
      "False Postive Rate (FPR) =  0.0015857284440039642\n",
      "False Negative Rate (FNR) =  0.03411741835147745\n",
      "Accuracy score:  0.9852495771545451\n",
      "Precision score 0.9658825816485226\n",
      "Recall score:  0.997590603353077\n",
      "F1 score:  0.9814805669415775\n",
      "Accuracy of the binary classification = 0.985\n",
      "model score on training data: 0.9872157973408858\n",
      "model score on testing data: 0.9852495771545451\n",
      "Feature: 0, Score: 0.63182\n",
      "Feature: 1, Score: 0.16867\n",
      "Feature: 2, Score: 0.19951\n",
      "RF ROC curve: ROC AUC=0.998\n"
     ]
    },
    {
     "output_type": "display_data",
     "data": {
      "text/plain": [
       "<Figure size 432x288 with 1 Axes>"
      ],
      "image/svg+xml": "<?xml version=\"1.0\" encoding=\"utf-8\" standalone=\"no\"?>\n<!DOCTYPE svg PUBLIC \"-//W3C//DTD SVG 1.1//EN\"\n  \"http://www.w3.org/Graphics/SVG/1.1/DTD/svg11.dtd\">\n<svg xmlns:xlink=\"http://www.w3.org/1999/xlink\" width=\"385.78125pt\" height=\"277.314375pt\" viewBox=\"0 0 385.78125 277.314375\" xmlns=\"http://www.w3.org/2000/svg\" version=\"1.1\">\n <metadata>\n  <rdf:RDF xmlns:dc=\"http://purl.org/dc/elements/1.1/\" xmlns:cc=\"http://creativecommons.org/ns#\" xmlns:rdf=\"http://www.w3.org/1999/02/22-rdf-syntax-ns#\">\n   <cc:Work>\n    <dc:type rdf:resource=\"http://purl.org/dc/dcmitype/StillImage\"/>\n    <dc:date>2022-05-17T16:08:35.685325</dc:date>\n    <dc:format>image/svg+xml</dc:format>\n    <dc:creator>\n     <cc:Agent>\n      <dc:title>Matplotlib v3.5.1, https://matplotlib.org/</dc:title>\n     </cc:Agent>\n    </dc:creator>\n   </cc:Work>\n  </rdf:RDF>\n </metadata>\n <defs>\n  <style type=\"text/css\">*{stroke-linejoin: round; stroke-linecap: butt}</style>\n </defs>\n <g id=\"figure_1\">\n  <g id=\"patch_1\">\n   <path d=\"M 0 277.314375 \nL 385.78125 277.314375 \nL 385.78125 0 \nL 0 0 \nL 0 277.314375 \nz\n\" style=\"fill: none\"/>\n  </g>\n  <g id=\"axes_1\">\n   <g id=\"patch_2\">\n    <path d=\"M 43.78125 239.758125 \nL 378.58125 239.758125 \nL 378.58125 22.318125 \nL 43.78125 22.318125 \nz\n\" style=\"fill: #ffffff\"/>\n   </g>\n   <g id=\"matplotlib.axis_1\">\n    <g id=\"xtick_1\">\n     <g id=\"line2d_1\">\n      <defs>\n       <path id=\"m482ed3f713\" d=\"M 0 0 \nL 0 3.5 \n\" style=\"stroke: #000000; stroke-width: 0.8\"/>\n      </defs>\n      <g>\n       <use xlink:href=\"#m482ed3f713\" x=\"58.999432\" y=\"239.758125\" style=\"stroke: #000000; stroke-width: 0.8\"/>\n      </g>\n     </g>\n     <g id=\"text_1\">\n      <!-- 0.0 -->\n      <g transform=\"translate(51.047869 254.356562)scale(0.1 -0.1)\">\n       <defs>\n        <path id=\"DejaVuSans-30\" d=\"M 2034 4250 \nQ 1547 4250 1301 3770 \nQ 1056 3291 1056 2328 \nQ 1056 1369 1301 889 \nQ 1547 409 2034 409 \nQ 2525 409 2770 889 \nQ 3016 1369 3016 2328 \nQ 3016 3291 2770 3770 \nQ 2525 4250 2034 4250 \nz\nM 2034 4750 \nQ 2819 4750 3233 4129 \nQ 3647 3509 3647 2328 \nQ 3647 1150 3233 529 \nQ 2819 -91 2034 -91 \nQ 1250 -91 836 529 \nQ 422 1150 422 2328 \nQ 422 3509 836 4129 \nQ 1250 4750 2034 4750 \nz\n\" transform=\"scale(0.015625)\"/>\n        <path id=\"DejaVuSans-2e\" d=\"M 684 794 \nL 1344 794 \nL 1344 0 \nL 684 0 \nL 684 794 \nz\n\" transform=\"scale(0.015625)\"/>\n       </defs>\n       <use xlink:href=\"#DejaVuSans-30\"/>\n       <use xlink:href=\"#DejaVuSans-2e\" x=\"63.623047\"/>\n       <use xlink:href=\"#DejaVuSans-30\" x=\"95.410156\"/>\n      </g>\n     </g>\n    </g>\n    <g id=\"xtick_2\">\n     <g id=\"line2d_2\">\n      <g>\n       <use xlink:href=\"#m482ed3f713\" x=\"119.872159\" y=\"239.758125\" style=\"stroke: #000000; stroke-width: 0.8\"/>\n      </g>\n     </g>\n     <g id=\"text_2\">\n      <!-- 0.2 -->\n      <g transform=\"translate(111.920597 254.356562)scale(0.1 -0.1)\">\n       <defs>\n        <path id=\"DejaVuSans-32\" d=\"M 1228 531 \nL 3431 531 \nL 3431 0 \nL 469 0 \nL 469 531 \nQ 828 903 1448 1529 \nQ 2069 2156 2228 2338 \nQ 2531 2678 2651 2914 \nQ 2772 3150 2772 3378 \nQ 2772 3750 2511 3984 \nQ 2250 4219 1831 4219 \nQ 1534 4219 1204 4116 \nQ 875 4013 500 3803 \nL 500 4441 \nQ 881 4594 1212 4672 \nQ 1544 4750 1819 4750 \nQ 2544 4750 2975 4387 \nQ 3406 4025 3406 3419 \nQ 3406 3131 3298 2873 \nQ 3191 2616 2906 2266 \nQ 2828 2175 2409 1742 \nQ 1991 1309 1228 531 \nz\n\" transform=\"scale(0.015625)\"/>\n       </defs>\n       <use xlink:href=\"#DejaVuSans-30\"/>\n       <use xlink:href=\"#DejaVuSans-2e\" x=\"63.623047\"/>\n       <use xlink:href=\"#DejaVuSans-32\" x=\"95.410156\"/>\n      </g>\n     </g>\n    </g>\n    <g id=\"xtick_3\">\n     <g id=\"line2d_3\">\n      <g>\n       <use xlink:href=\"#m482ed3f713\" x=\"180.744886\" y=\"239.758125\" style=\"stroke: #000000; stroke-width: 0.8\"/>\n      </g>\n     </g>\n     <g id=\"text_3\">\n      <!-- 0.4 -->\n      <g transform=\"translate(172.793324 254.356562)scale(0.1 -0.1)\">\n       <defs>\n        <path id=\"DejaVuSans-34\" d=\"M 2419 4116 \nL 825 1625 \nL 2419 1625 \nL 2419 4116 \nz\nM 2253 4666 \nL 3047 4666 \nL 3047 1625 \nL 3713 1625 \nL 3713 1100 \nL 3047 1100 \nL 3047 0 \nL 2419 0 \nL 2419 1100 \nL 313 1100 \nL 313 1709 \nL 2253 4666 \nz\n\" transform=\"scale(0.015625)\"/>\n       </defs>\n       <use xlink:href=\"#DejaVuSans-30\"/>\n       <use xlink:href=\"#DejaVuSans-2e\" x=\"63.623047\"/>\n       <use xlink:href=\"#DejaVuSans-34\" x=\"95.410156\"/>\n      </g>\n     </g>\n    </g>\n    <g id=\"xtick_4\">\n     <g id=\"line2d_4\">\n      <g>\n       <use xlink:href=\"#m482ed3f713\" x=\"241.617614\" y=\"239.758125\" style=\"stroke: #000000; stroke-width: 0.8\"/>\n      </g>\n     </g>\n     <g id=\"text_4\">\n      <!-- 0.6 -->\n      <g transform=\"translate(233.666051 254.356562)scale(0.1 -0.1)\">\n       <defs>\n        <path id=\"DejaVuSans-36\" d=\"M 2113 2584 \nQ 1688 2584 1439 2293 \nQ 1191 2003 1191 1497 \nQ 1191 994 1439 701 \nQ 1688 409 2113 409 \nQ 2538 409 2786 701 \nQ 3034 994 3034 1497 \nQ 3034 2003 2786 2293 \nQ 2538 2584 2113 2584 \nz\nM 3366 4563 \nL 3366 3988 \nQ 3128 4100 2886 4159 \nQ 2644 4219 2406 4219 \nQ 1781 4219 1451 3797 \nQ 1122 3375 1075 2522 \nQ 1259 2794 1537 2939 \nQ 1816 3084 2150 3084 \nQ 2853 3084 3261 2657 \nQ 3669 2231 3669 1497 \nQ 3669 778 3244 343 \nQ 2819 -91 2113 -91 \nQ 1303 -91 875 529 \nQ 447 1150 447 2328 \nQ 447 3434 972 4092 \nQ 1497 4750 2381 4750 \nQ 2619 4750 2861 4703 \nQ 3103 4656 3366 4563 \nz\n\" transform=\"scale(0.015625)\"/>\n       </defs>\n       <use xlink:href=\"#DejaVuSans-30\"/>\n       <use xlink:href=\"#DejaVuSans-2e\" x=\"63.623047\"/>\n       <use xlink:href=\"#DejaVuSans-36\" x=\"95.410156\"/>\n      </g>\n     </g>\n    </g>\n    <g id=\"xtick_5\">\n     <g id=\"line2d_5\">\n      <g>\n       <use xlink:href=\"#m482ed3f713\" x=\"302.490341\" y=\"239.758125\" style=\"stroke: #000000; stroke-width: 0.8\"/>\n      </g>\n     </g>\n     <g id=\"text_5\">\n      <!-- 0.8 -->\n      <g transform=\"translate(294.538778 254.356562)scale(0.1 -0.1)\">\n       <defs>\n        <path id=\"DejaVuSans-38\" d=\"M 2034 2216 \nQ 1584 2216 1326 1975 \nQ 1069 1734 1069 1313 \nQ 1069 891 1326 650 \nQ 1584 409 2034 409 \nQ 2484 409 2743 651 \nQ 3003 894 3003 1313 \nQ 3003 1734 2745 1975 \nQ 2488 2216 2034 2216 \nz\nM 1403 2484 \nQ 997 2584 770 2862 \nQ 544 3141 544 3541 \nQ 544 4100 942 4425 \nQ 1341 4750 2034 4750 \nQ 2731 4750 3128 4425 \nQ 3525 4100 3525 3541 \nQ 3525 3141 3298 2862 \nQ 3072 2584 2669 2484 \nQ 3125 2378 3379 2068 \nQ 3634 1759 3634 1313 \nQ 3634 634 3220 271 \nQ 2806 -91 2034 -91 \nQ 1263 -91 848 271 \nQ 434 634 434 1313 \nQ 434 1759 690 2068 \nQ 947 2378 1403 2484 \nz\nM 1172 3481 \nQ 1172 3119 1398 2916 \nQ 1625 2713 2034 2713 \nQ 2441 2713 2670 2916 \nQ 2900 3119 2900 3481 \nQ 2900 3844 2670 4047 \nQ 2441 4250 2034 4250 \nQ 1625 4250 1398 4047 \nQ 1172 3844 1172 3481 \nz\n\" transform=\"scale(0.015625)\"/>\n       </defs>\n       <use xlink:href=\"#DejaVuSans-30\"/>\n       <use xlink:href=\"#DejaVuSans-2e\" x=\"63.623047\"/>\n       <use xlink:href=\"#DejaVuSans-38\" x=\"95.410156\"/>\n      </g>\n     </g>\n    </g>\n    <g id=\"xtick_6\">\n     <g id=\"line2d_6\">\n      <g>\n       <use xlink:href=\"#m482ed3f713\" x=\"363.363068\" y=\"239.758125\" style=\"stroke: #000000; stroke-width: 0.8\"/>\n      </g>\n     </g>\n     <g id=\"text_6\">\n      <!-- 1.0 -->\n      <g transform=\"translate(355.411506 254.356562)scale(0.1 -0.1)\">\n       <defs>\n        <path id=\"DejaVuSans-31\" d=\"M 794 531 \nL 1825 531 \nL 1825 4091 \nL 703 3866 \nL 703 4441 \nL 1819 4666 \nL 2450 4666 \nL 2450 531 \nL 3481 531 \nL 3481 0 \nL 794 0 \nL 794 531 \nz\n\" transform=\"scale(0.015625)\"/>\n       </defs>\n       <use xlink:href=\"#DejaVuSans-31\"/>\n       <use xlink:href=\"#DejaVuSans-2e\" x=\"63.623047\"/>\n       <use xlink:href=\"#DejaVuSans-30\" x=\"95.410156\"/>\n      </g>\n     </g>\n    </g>\n    <g id=\"text_7\">\n     <!-- False Positive Rate -->\n     <g transform=\"translate(164.714844 268.034687)scale(0.1 -0.1)\">\n      <defs>\n       <path id=\"DejaVuSans-46\" d=\"M 628 4666 \nL 3309 4666 \nL 3309 4134 \nL 1259 4134 \nL 1259 2759 \nL 3109 2759 \nL 3109 2228 \nL 1259 2228 \nL 1259 0 \nL 628 0 \nL 628 4666 \nz\n\" transform=\"scale(0.015625)\"/>\n       <path id=\"DejaVuSans-61\" d=\"M 2194 1759 \nQ 1497 1759 1228 1600 \nQ 959 1441 959 1056 \nQ 959 750 1161 570 \nQ 1363 391 1709 391 \nQ 2188 391 2477 730 \nQ 2766 1069 2766 1631 \nL 2766 1759 \nL 2194 1759 \nz\nM 3341 1997 \nL 3341 0 \nL 2766 0 \nL 2766 531 \nQ 2569 213 2275 61 \nQ 1981 -91 1556 -91 \nQ 1019 -91 701 211 \nQ 384 513 384 1019 \nQ 384 1609 779 1909 \nQ 1175 2209 1959 2209 \nL 2766 2209 \nL 2766 2266 \nQ 2766 2663 2505 2880 \nQ 2244 3097 1772 3097 \nQ 1472 3097 1187 3025 \nQ 903 2953 641 2809 \nL 641 3341 \nQ 956 3463 1253 3523 \nQ 1550 3584 1831 3584 \nQ 2591 3584 2966 3190 \nQ 3341 2797 3341 1997 \nz\n\" transform=\"scale(0.015625)\"/>\n       <path id=\"DejaVuSans-6c\" d=\"M 603 4863 \nL 1178 4863 \nL 1178 0 \nL 603 0 \nL 603 4863 \nz\n\" transform=\"scale(0.015625)\"/>\n       <path id=\"DejaVuSans-73\" d=\"M 2834 3397 \nL 2834 2853 \nQ 2591 2978 2328 3040 \nQ 2066 3103 1784 3103 \nQ 1356 3103 1142 2972 \nQ 928 2841 928 2578 \nQ 928 2378 1081 2264 \nQ 1234 2150 1697 2047 \nL 1894 2003 \nQ 2506 1872 2764 1633 \nQ 3022 1394 3022 966 \nQ 3022 478 2636 193 \nQ 2250 -91 1575 -91 \nQ 1294 -91 989 -36 \nQ 684 19 347 128 \nL 347 722 \nQ 666 556 975 473 \nQ 1284 391 1588 391 \nQ 1994 391 2212 530 \nQ 2431 669 2431 922 \nQ 2431 1156 2273 1281 \nQ 2116 1406 1581 1522 \nL 1381 1569 \nQ 847 1681 609 1914 \nQ 372 2147 372 2553 \nQ 372 3047 722 3315 \nQ 1072 3584 1716 3584 \nQ 2034 3584 2315 3537 \nQ 2597 3491 2834 3397 \nz\n\" transform=\"scale(0.015625)\"/>\n       <path id=\"DejaVuSans-65\" d=\"M 3597 1894 \nL 3597 1613 \nL 953 1613 \nQ 991 1019 1311 708 \nQ 1631 397 2203 397 \nQ 2534 397 2845 478 \nQ 3156 559 3463 722 \nL 3463 178 \nQ 3153 47 2828 -22 \nQ 2503 -91 2169 -91 \nQ 1331 -91 842 396 \nQ 353 884 353 1716 \nQ 353 2575 817 3079 \nQ 1281 3584 2069 3584 \nQ 2775 3584 3186 3129 \nQ 3597 2675 3597 1894 \nz\nM 3022 2063 \nQ 3016 2534 2758 2815 \nQ 2500 3097 2075 3097 \nQ 1594 3097 1305 2825 \nQ 1016 2553 972 2059 \nL 3022 2063 \nz\n\" transform=\"scale(0.015625)\"/>\n       <path id=\"DejaVuSans-20\" transform=\"scale(0.015625)\"/>\n       <path id=\"DejaVuSans-50\" d=\"M 1259 4147 \nL 1259 2394 \nL 2053 2394 \nQ 2494 2394 2734 2622 \nQ 2975 2850 2975 3272 \nQ 2975 3691 2734 3919 \nQ 2494 4147 2053 4147 \nL 1259 4147 \nz\nM 628 4666 \nL 2053 4666 \nQ 2838 4666 3239 4311 \nQ 3641 3956 3641 3272 \nQ 3641 2581 3239 2228 \nQ 2838 1875 2053 1875 \nL 1259 1875 \nL 1259 0 \nL 628 0 \nL 628 4666 \nz\n\" transform=\"scale(0.015625)\"/>\n       <path id=\"DejaVuSans-6f\" d=\"M 1959 3097 \nQ 1497 3097 1228 2736 \nQ 959 2375 959 1747 \nQ 959 1119 1226 758 \nQ 1494 397 1959 397 \nQ 2419 397 2687 759 \nQ 2956 1122 2956 1747 \nQ 2956 2369 2687 2733 \nQ 2419 3097 1959 3097 \nz\nM 1959 3584 \nQ 2709 3584 3137 3096 \nQ 3566 2609 3566 1747 \nQ 3566 888 3137 398 \nQ 2709 -91 1959 -91 \nQ 1206 -91 779 398 \nQ 353 888 353 1747 \nQ 353 2609 779 3096 \nQ 1206 3584 1959 3584 \nz\n\" transform=\"scale(0.015625)\"/>\n       <path id=\"DejaVuSans-69\" d=\"M 603 3500 \nL 1178 3500 \nL 1178 0 \nL 603 0 \nL 603 3500 \nz\nM 603 4863 \nL 1178 4863 \nL 1178 4134 \nL 603 4134 \nL 603 4863 \nz\n\" transform=\"scale(0.015625)\"/>\n       <path id=\"DejaVuSans-74\" d=\"M 1172 4494 \nL 1172 3500 \nL 2356 3500 \nL 2356 3053 \nL 1172 3053 \nL 1172 1153 \nQ 1172 725 1289 603 \nQ 1406 481 1766 481 \nL 2356 481 \nL 2356 0 \nL 1766 0 \nQ 1100 0 847 248 \nQ 594 497 594 1153 \nL 594 3053 \nL 172 3053 \nL 172 3500 \nL 594 3500 \nL 594 4494 \nL 1172 4494 \nz\n\" transform=\"scale(0.015625)\"/>\n       <path id=\"DejaVuSans-76\" d=\"M 191 3500 \nL 800 3500 \nL 1894 563 \nL 2988 3500 \nL 3597 3500 \nL 2284 0 \nL 1503 0 \nL 191 3500 \nz\n\" transform=\"scale(0.015625)\"/>\n       <path id=\"DejaVuSans-52\" d=\"M 2841 2188 \nQ 3044 2119 3236 1894 \nQ 3428 1669 3622 1275 \nL 4263 0 \nL 3584 0 \nL 2988 1197 \nQ 2756 1666 2539 1819 \nQ 2322 1972 1947 1972 \nL 1259 1972 \nL 1259 0 \nL 628 0 \nL 628 4666 \nL 2053 4666 \nQ 2853 4666 3247 4331 \nQ 3641 3997 3641 3322 \nQ 3641 2881 3436 2590 \nQ 3231 2300 2841 2188 \nz\nM 1259 4147 \nL 1259 2491 \nL 2053 2491 \nQ 2509 2491 2742 2702 \nQ 2975 2913 2975 3322 \nQ 2975 3731 2742 3939 \nQ 2509 4147 2053 4147 \nL 1259 4147 \nz\n\" transform=\"scale(0.015625)\"/>\n      </defs>\n      <use xlink:href=\"#DejaVuSans-46\"/>\n      <use xlink:href=\"#DejaVuSans-61\" x=\"48.394531\"/>\n      <use xlink:href=\"#DejaVuSans-6c\" x=\"109.673828\"/>\n      <use xlink:href=\"#DejaVuSans-73\" x=\"137.457031\"/>\n      <use xlink:href=\"#DejaVuSans-65\" x=\"189.556641\"/>\n      <use xlink:href=\"#DejaVuSans-20\" x=\"251.080078\"/>\n      <use xlink:href=\"#DejaVuSans-50\" x=\"282.867188\"/>\n      <use xlink:href=\"#DejaVuSans-6f\" x=\"339.544922\"/>\n      <use xlink:href=\"#DejaVuSans-73\" x=\"400.726562\"/>\n      <use xlink:href=\"#DejaVuSans-69\" x=\"452.826172\"/>\n      <use xlink:href=\"#DejaVuSans-74\" x=\"480.609375\"/>\n      <use xlink:href=\"#DejaVuSans-69\" x=\"519.818359\"/>\n      <use xlink:href=\"#DejaVuSans-76\" x=\"547.601562\"/>\n      <use xlink:href=\"#DejaVuSans-65\" x=\"606.78125\"/>\n      <use xlink:href=\"#DejaVuSans-20\" x=\"668.304688\"/>\n      <use xlink:href=\"#DejaVuSans-52\" x=\"700.091797\"/>\n      <use xlink:href=\"#DejaVuSans-61\" x=\"767.324219\"/>\n      <use xlink:href=\"#DejaVuSans-74\" x=\"828.603516\"/>\n      <use xlink:href=\"#DejaVuSans-65\" x=\"867.8125\"/>\n     </g>\n    </g>\n   </g>\n   <g id=\"matplotlib.axis_2\">\n    <g id=\"ytick_1\">\n     <g id=\"line2d_7\">\n      <defs>\n       <path id=\"me349e990f0\" d=\"M 0 0 \nL -3.5 0 \n\" style=\"stroke: #000000; stroke-width: 0.8\"/>\n      </defs>\n      <g>\n       <use xlink:href=\"#me349e990f0\" x=\"43.78125\" y=\"229.874489\" style=\"stroke: #000000; stroke-width: 0.8\"/>\n      </g>\n     </g>\n     <g id=\"text_8\">\n      <!-- 0.0 -->\n      <g transform=\"translate(20.878125 233.673707)scale(0.1 -0.1)\">\n       <use xlink:href=\"#DejaVuSans-30\"/>\n       <use xlink:href=\"#DejaVuSans-2e\" x=\"63.623047\"/>\n       <use xlink:href=\"#DejaVuSans-30\" x=\"95.410156\"/>\n      </g>\n     </g>\n    </g>\n    <g id=\"ytick_2\">\n     <g id=\"line2d_8\">\n      <g>\n       <use xlink:href=\"#me349e990f0\" x=\"43.78125\" y=\"190.339943\" style=\"stroke: #000000; stroke-width: 0.8\"/>\n      </g>\n     </g>\n     <g id=\"text_9\">\n      <!-- 0.2 -->\n      <g transform=\"translate(20.878125 194.139162)scale(0.1 -0.1)\">\n       <use xlink:href=\"#DejaVuSans-30\"/>\n       <use xlink:href=\"#DejaVuSans-2e\" x=\"63.623047\"/>\n       <use xlink:href=\"#DejaVuSans-32\" x=\"95.410156\"/>\n      </g>\n     </g>\n    </g>\n    <g id=\"ytick_3\">\n     <g id=\"line2d_9\">\n      <g>\n       <use xlink:href=\"#me349e990f0\" x=\"43.78125\" y=\"150.805398\" style=\"stroke: #000000; stroke-width: 0.8\"/>\n      </g>\n     </g>\n     <g id=\"text_10\">\n      <!-- 0.4 -->\n      <g transform=\"translate(20.878125 154.604616)scale(0.1 -0.1)\">\n       <use xlink:href=\"#DejaVuSans-30\"/>\n       <use xlink:href=\"#DejaVuSans-2e\" x=\"63.623047\"/>\n       <use xlink:href=\"#DejaVuSans-34\" x=\"95.410156\"/>\n      </g>\n     </g>\n    </g>\n    <g id=\"ytick_4\">\n     <g id=\"line2d_10\">\n      <g>\n       <use xlink:href=\"#me349e990f0\" x=\"43.78125\" y=\"111.270852\" style=\"stroke: #000000; stroke-width: 0.8\"/>\n      </g>\n     </g>\n     <g id=\"text_11\">\n      <!-- 0.6 -->\n      <g transform=\"translate(20.878125 115.070071)scale(0.1 -0.1)\">\n       <use xlink:href=\"#DejaVuSans-30\"/>\n       <use xlink:href=\"#DejaVuSans-2e\" x=\"63.623047\"/>\n       <use xlink:href=\"#DejaVuSans-36\" x=\"95.410156\"/>\n      </g>\n     </g>\n    </g>\n    <g id=\"ytick_5\">\n     <g id=\"line2d_11\">\n      <g>\n       <use xlink:href=\"#me349e990f0\" x=\"43.78125\" y=\"71.736307\" style=\"stroke: #000000; stroke-width: 0.8\"/>\n      </g>\n     </g>\n     <g id=\"text_12\">\n      <!-- 0.8 -->\n      <g transform=\"translate(20.878125 75.535526)scale(0.1 -0.1)\">\n       <use xlink:href=\"#DejaVuSans-30\"/>\n       <use xlink:href=\"#DejaVuSans-2e\" x=\"63.623047\"/>\n       <use xlink:href=\"#DejaVuSans-38\" x=\"95.410156\"/>\n      </g>\n     </g>\n    </g>\n    <g id=\"ytick_6\">\n     <g id=\"line2d_12\">\n      <g>\n       <use xlink:href=\"#me349e990f0\" x=\"43.78125\" y=\"32.201761\" style=\"stroke: #000000; stroke-width: 0.8\"/>\n      </g>\n     </g>\n     <g id=\"text_13\">\n      <!-- 1.0 -->\n      <g transform=\"translate(20.878125 36.00098)scale(0.1 -0.1)\">\n       <use xlink:href=\"#DejaVuSans-31\"/>\n       <use xlink:href=\"#DejaVuSans-2e\" x=\"63.623047\"/>\n       <use xlink:href=\"#DejaVuSans-30\" x=\"95.410156\"/>\n      </g>\n     </g>\n    </g>\n    <g id=\"text_14\">\n     <!-- True Positive Rate -->\n     <g transform=\"translate(14.798438 175.567812)rotate(-90)scale(0.1 -0.1)\">\n      <defs>\n       <path id=\"DejaVuSans-54\" d=\"M -19 4666 \nL 3928 4666 \nL 3928 4134 \nL 2272 4134 \nL 2272 0 \nL 1638 0 \nL 1638 4134 \nL -19 4134 \nL -19 4666 \nz\n\" transform=\"scale(0.015625)\"/>\n       <path id=\"DejaVuSans-72\" d=\"M 2631 2963 \nQ 2534 3019 2420 3045 \nQ 2306 3072 2169 3072 \nQ 1681 3072 1420 2755 \nQ 1159 2438 1159 1844 \nL 1159 0 \nL 581 0 \nL 581 3500 \nL 1159 3500 \nL 1159 2956 \nQ 1341 3275 1631 3429 \nQ 1922 3584 2338 3584 \nQ 2397 3584 2469 3576 \nQ 2541 3569 2628 3553 \nL 2631 2963 \nz\n\" transform=\"scale(0.015625)\"/>\n       <path id=\"DejaVuSans-75\" d=\"M 544 1381 \nL 544 3500 \nL 1119 3500 \nL 1119 1403 \nQ 1119 906 1312 657 \nQ 1506 409 1894 409 \nQ 2359 409 2629 706 \nQ 2900 1003 2900 1516 \nL 2900 3500 \nL 3475 3500 \nL 3475 0 \nL 2900 0 \nL 2900 538 \nQ 2691 219 2414 64 \nQ 2138 -91 1772 -91 \nQ 1169 -91 856 284 \nQ 544 659 544 1381 \nz\nM 1991 3584 \nL 1991 3584 \nz\n\" transform=\"scale(0.015625)\"/>\n      </defs>\n      <use xlink:href=\"#DejaVuSans-54\"/>\n      <use xlink:href=\"#DejaVuSans-72\" x=\"46.333984\"/>\n      <use xlink:href=\"#DejaVuSans-75\" x=\"87.447266\"/>\n      <use xlink:href=\"#DejaVuSans-65\" x=\"150.826172\"/>\n      <use xlink:href=\"#DejaVuSans-20\" x=\"212.349609\"/>\n      <use xlink:href=\"#DejaVuSans-50\" x=\"244.136719\"/>\n      <use xlink:href=\"#DejaVuSans-6f\" x=\"300.814453\"/>\n      <use xlink:href=\"#DejaVuSans-73\" x=\"361.996094\"/>\n      <use xlink:href=\"#DejaVuSans-69\" x=\"414.095703\"/>\n      <use xlink:href=\"#DejaVuSans-74\" x=\"441.878906\"/>\n      <use xlink:href=\"#DejaVuSans-69\" x=\"481.087891\"/>\n      <use xlink:href=\"#DejaVuSans-76\" x=\"508.871094\"/>\n      <use xlink:href=\"#DejaVuSans-65\" x=\"568.050781\"/>\n      <use xlink:href=\"#DejaVuSans-20\" x=\"629.574219\"/>\n      <use xlink:href=\"#DejaVuSans-52\" x=\"661.361328\"/>\n      <use xlink:href=\"#DejaVuSans-61\" x=\"728.59375\"/>\n      <use xlink:href=\"#DejaVuSans-74\" x=\"789.873047\"/>\n      <use xlink:href=\"#DejaVuSans-65\" x=\"829.082031\"/>\n     </g>\n    </g>\n   </g>\n   <g id=\"line2d_13\">\n    <path d=\"M 58.999432 229.874489 \nL 363.363068 32.201761 \n\" clip-path=\"url(#p546f47159a)\" style=\"fill: none; stroke-dasharray: 5.55,2.4; stroke-dashoffset: 0; stroke: #1f77b4; stroke-width: 1.5\"/>\n   </g>\n   <g id=\"line2d_14\">\n    <path d=\"M 58.999432 229.874489 \nL 59.099981 41.040161 \nL 59.160311 40.944091 \nL 59.240751 39.349337 \nL 59.40163 39.253267 \nL 59.50218 38.888203 \nL 59.743499 38.849775 \nL 59.823939 38.696064 \nL 59.864158 38.696064 \nL 59.864158 38.599994 \nL 59.944598 38.350213 \nL 60.125587 38.254144 \nL 60.165807 38.042791 \nL 60.346796 37.965935 \nL 60.447346 37.79301 \nL 60.588115 37.69694 \nL 60.588115 37.677726 \nL 60.929984 37.620085 \nL 61.030534 37.504801 \nL 61.392512 37.408732 \nL 61.493062 37.312662 \nL 61.633831 37.216592 \nL 61.734381 37.043667 \nL 61.834931 36.966812 \nL 61.91537 36.640175 \nL 62.05614 36.620961 \nL 62.05614 36.544105 \nL 62.136579 36.46725 \nL 62.156689 36.46725 \nL 62.297459 36.37118 \nL 62.377898 36.236683 \nL 62.719767 36.159827 \nL 62.719767 36.140613 \nL 62.820317 35.986902 \nL 62.920866 35.910046 \nL 62.920866 35.890832 \nL 63.021416 35.660266 \nL 63.584494 35.58341 \nL 63.584494 35.544982 \nL 63.664933 35.544982 \nL 64.026912 35.448913 \nL 64.087242 35.295201 \nL 64.107351 35.295201 \nL 64.36878 35.218346 \nL 64.44922 35.160704 \nL 64.630209 35.122276 \nL 64.630209 35.064634 \nL 65.414496 34.776426 \nL 65.736255 34.680356 \nL 65.736255 34.661142 \nL 65.816695 34.661142 \nL 66.500432 34.641928 \nL 66.540652 34.488217 \nL 66.600982 34.488217 \nL 66.842301 34.392147 \nL 66.842301 34.372933 \nL 66.92274 34.372933 \nL 67.948346 34.276864 \nL 67.948346 34.25765 \nL 68.028786 34.25765 \nL 68.833183 34.16158 \nL 68.933732 34.123153 \nL 84.197161 34.027083 \nL 84.297711 33.969441 \nL 85.846175 33.873372 \nL 85.846175 33.854158 \nL 87.897387 33.758088 \nL 87.897387 33.738874 \nL 89.48607 33.642805 \nL 89.48607 33.623591 \nL 89.58662 33.623591 \nL 92.16069 33.527521 \nL 92.16069 33.508307 \nL 102.979826 33.412238 \nL 102.979826 33.393024 \nL 103.080376 33.393024 \nL 104.447851 33.296954 \nL 104.447851 33.27774 \nL 104.52829 33.27774 \nL 106.961591 33.181671 \nL 106.961591 33.162457 \nL 108.510054 33.066387 \nL 108.510054 33.047173 \nL 108.610604 33.047173 \nL 109.435111 32.951104 \nL 110.058518 32.912676 \nL 113.939733 32.816607 \nL 113.959843 32.778179 \nL 114.020172 32.778179 \nL 124.77898 32.682109 \nL 124.77898 32.662895 \nL 124.879529 32.662895 \nL 144.164942 32.566826 \nL 144.305712 32.547612 \nL 172.781358 32.451542 \nL 172.781358 32.432328 \nL 172.841688 32.432328 \nL 187.662699 32.336259 \nL 187.863798 32.317045 \nL 224.363302 32.220975 \nL 224.363302 32.201761 \nL 224.383412 32.201761 \nL 363.363068 32.201761 \nL 363.363068 32.201761 \n\" clip-path=\"url(#p546f47159a)\" style=\"fill: none; stroke: #ff7f0e; stroke-width: 1.5; stroke-linecap: square\"/>\n   </g>\n   <g id=\"patch_3\">\n    <path d=\"M 43.78125 239.758125 \nL 43.78125 22.318125 \n\" style=\"fill: none; stroke: #000000; stroke-width: 0.8; stroke-linejoin: miter; stroke-linecap: square\"/>\n   </g>\n   <g id=\"patch_4\">\n    <path d=\"M 378.58125 239.758125 \nL 378.58125 22.318125 \n\" style=\"fill: none; stroke: #000000; stroke-width: 0.8; stroke-linejoin: miter; stroke-linecap: square\"/>\n   </g>\n   <g id=\"patch_5\">\n    <path d=\"M 43.78125 239.758125 \nL 378.58125 239.758125 \n\" style=\"fill: none; stroke: #000000; stroke-width: 0.8; stroke-linejoin: miter; stroke-linecap: square\"/>\n   </g>\n   <g id=\"patch_6\">\n    <path d=\"M 43.78125 22.318125 \nL 378.58125 22.318125 \n\" style=\"fill: none; stroke: #000000; stroke-width: 0.8; stroke-linejoin: miter; stroke-linecap: square\"/>\n   </g>\n   <g id=\"text_15\">\n    <!-- ROC of Random Forest Algorithm -->\n    <g transform=\"translate(112.060313 16.318125)scale(0.12 -0.12)\">\n     <defs>\n      <path id=\"DejaVuSans-4f\" d=\"M 2522 4238 \nQ 1834 4238 1429 3725 \nQ 1025 3213 1025 2328 \nQ 1025 1447 1429 934 \nQ 1834 422 2522 422 \nQ 3209 422 3611 934 \nQ 4013 1447 4013 2328 \nQ 4013 3213 3611 3725 \nQ 3209 4238 2522 4238 \nz\nM 2522 4750 \nQ 3503 4750 4090 4092 \nQ 4678 3434 4678 2328 \nQ 4678 1225 4090 567 \nQ 3503 -91 2522 -91 \nQ 1538 -91 948 565 \nQ 359 1222 359 2328 \nQ 359 3434 948 4092 \nQ 1538 4750 2522 4750 \nz\n\" transform=\"scale(0.015625)\"/>\n      <path id=\"DejaVuSans-43\" d=\"M 4122 4306 \nL 4122 3641 \nQ 3803 3938 3442 4084 \nQ 3081 4231 2675 4231 \nQ 1875 4231 1450 3742 \nQ 1025 3253 1025 2328 \nQ 1025 1406 1450 917 \nQ 1875 428 2675 428 \nQ 3081 428 3442 575 \nQ 3803 722 4122 1019 \nL 4122 359 \nQ 3791 134 3420 21 \nQ 3050 -91 2638 -91 \nQ 1578 -91 968 557 \nQ 359 1206 359 2328 \nQ 359 3453 968 4101 \nQ 1578 4750 2638 4750 \nQ 3056 4750 3426 4639 \nQ 3797 4528 4122 4306 \nz\n\" transform=\"scale(0.015625)\"/>\n      <path id=\"DejaVuSans-66\" d=\"M 2375 4863 \nL 2375 4384 \nL 1825 4384 \nQ 1516 4384 1395 4259 \nQ 1275 4134 1275 3809 \nL 1275 3500 \nL 2222 3500 \nL 2222 3053 \nL 1275 3053 \nL 1275 0 \nL 697 0 \nL 697 3053 \nL 147 3053 \nL 147 3500 \nL 697 3500 \nL 697 3744 \nQ 697 4328 969 4595 \nQ 1241 4863 1831 4863 \nL 2375 4863 \nz\n\" transform=\"scale(0.015625)\"/>\n      <path id=\"DejaVuSans-6e\" d=\"M 3513 2113 \nL 3513 0 \nL 2938 0 \nL 2938 2094 \nQ 2938 2591 2744 2837 \nQ 2550 3084 2163 3084 \nQ 1697 3084 1428 2787 \nQ 1159 2491 1159 1978 \nL 1159 0 \nL 581 0 \nL 581 3500 \nL 1159 3500 \nL 1159 2956 \nQ 1366 3272 1645 3428 \nQ 1925 3584 2291 3584 \nQ 2894 3584 3203 3211 \nQ 3513 2838 3513 2113 \nz\n\" transform=\"scale(0.015625)\"/>\n      <path id=\"DejaVuSans-64\" d=\"M 2906 2969 \nL 2906 4863 \nL 3481 4863 \nL 3481 0 \nL 2906 0 \nL 2906 525 \nQ 2725 213 2448 61 \nQ 2172 -91 1784 -91 \nQ 1150 -91 751 415 \nQ 353 922 353 1747 \nQ 353 2572 751 3078 \nQ 1150 3584 1784 3584 \nQ 2172 3584 2448 3432 \nQ 2725 3281 2906 2969 \nz\nM 947 1747 \nQ 947 1113 1208 752 \nQ 1469 391 1925 391 \nQ 2381 391 2643 752 \nQ 2906 1113 2906 1747 \nQ 2906 2381 2643 2742 \nQ 2381 3103 1925 3103 \nQ 1469 3103 1208 2742 \nQ 947 2381 947 1747 \nz\n\" transform=\"scale(0.015625)\"/>\n      <path id=\"DejaVuSans-6d\" d=\"M 3328 2828 \nQ 3544 3216 3844 3400 \nQ 4144 3584 4550 3584 \nQ 5097 3584 5394 3201 \nQ 5691 2819 5691 2113 \nL 5691 0 \nL 5113 0 \nL 5113 2094 \nQ 5113 2597 4934 2840 \nQ 4756 3084 4391 3084 \nQ 3944 3084 3684 2787 \nQ 3425 2491 3425 1978 \nL 3425 0 \nL 2847 0 \nL 2847 2094 \nQ 2847 2600 2669 2842 \nQ 2491 3084 2119 3084 \nQ 1678 3084 1418 2786 \nQ 1159 2488 1159 1978 \nL 1159 0 \nL 581 0 \nL 581 3500 \nL 1159 3500 \nL 1159 2956 \nQ 1356 3278 1631 3431 \nQ 1906 3584 2284 3584 \nQ 2666 3584 2933 3390 \nQ 3200 3197 3328 2828 \nz\n\" transform=\"scale(0.015625)\"/>\n      <path id=\"DejaVuSans-41\" d=\"M 2188 4044 \nL 1331 1722 \nL 3047 1722 \nL 2188 4044 \nz\nM 1831 4666 \nL 2547 4666 \nL 4325 0 \nL 3669 0 \nL 3244 1197 \nL 1141 1197 \nL 716 0 \nL 50 0 \nL 1831 4666 \nz\n\" transform=\"scale(0.015625)\"/>\n      <path id=\"DejaVuSans-67\" d=\"M 2906 1791 \nQ 2906 2416 2648 2759 \nQ 2391 3103 1925 3103 \nQ 1463 3103 1205 2759 \nQ 947 2416 947 1791 \nQ 947 1169 1205 825 \nQ 1463 481 1925 481 \nQ 2391 481 2648 825 \nQ 2906 1169 2906 1791 \nz\nM 3481 434 \nQ 3481 -459 3084 -895 \nQ 2688 -1331 1869 -1331 \nQ 1566 -1331 1297 -1286 \nQ 1028 -1241 775 -1147 \nL 775 -588 \nQ 1028 -725 1275 -790 \nQ 1522 -856 1778 -856 \nQ 2344 -856 2625 -561 \nQ 2906 -266 2906 331 \nL 2906 616 \nQ 2728 306 2450 153 \nQ 2172 0 1784 0 \nQ 1141 0 747 490 \nQ 353 981 353 1791 \nQ 353 2603 747 3093 \nQ 1141 3584 1784 3584 \nQ 2172 3584 2450 3431 \nQ 2728 3278 2906 2969 \nL 2906 3500 \nL 3481 3500 \nL 3481 434 \nz\n\" transform=\"scale(0.015625)\"/>\n      <path id=\"DejaVuSans-68\" d=\"M 3513 2113 \nL 3513 0 \nL 2938 0 \nL 2938 2094 \nQ 2938 2591 2744 2837 \nQ 2550 3084 2163 3084 \nQ 1697 3084 1428 2787 \nQ 1159 2491 1159 1978 \nL 1159 0 \nL 581 0 \nL 581 4863 \nL 1159 4863 \nL 1159 2956 \nQ 1366 3272 1645 3428 \nQ 1925 3584 2291 3584 \nQ 2894 3584 3203 3211 \nQ 3513 2838 3513 2113 \nz\n\" transform=\"scale(0.015625)\"/>\n     </defs>\n     <use xlink:href=\"#DejaVuSans-52\"/>\n     <use xlink:href=\"#DejaVuSans-4f\" x=\"69.482422\"/>\n     <use xlink:href=\"#DejaVuSans-43\" x=\"148.193359\"/>\n     <use xlink:href=\"#DejaVuSans-20\" x=\"218.017578\"/>\n     <use xlink:href=\"#DejaVuSans-6f\" x=\"249.804688\"/>\n     <use xlink:href=\"#DejaVuSans-66\" x=\"310.986328\"/>\n     <use xlink:href=\"#DejaVuSans-20\" x=\"346.191406\"/>\n     <use xlink:href=\"#DejaVuSans-52\" x=\"377.978516\"/>\n     <use xlink:href=\"#DejaVuSans-61\" x=\"445.210938\"/>\n     <use xlink:href=\"#DejaVuSans-6e\" x=\"506.490234\"/>\n     <use xlink:href=\"#DejaVuSans-64\" x=\"569.869141\"/>\n     <use xlink:href=\"#DejaVuSans-6f\" x=\"633.345703\"/>\n     <use xlink:href=\"#DejaVuSans-6d\" x=\"694.527344\"/>\n     <use xlink:href=\"#DejaVuSans-20\" x=\"791.939453\"/>\n     <use xlink:href=\"#DejaVuSans-46\" x=\"823.726562\"/>\n     <use xlink:href=\"#DejaVuSans-6f\" x=\"877.621094\"/>\n     <use xlink:href=\"#DejaVuSans-72\" x=\"938.802734\"/>\n     <use xlink:href=\"#DejaVuSans-65\" x=\"977.666016\"/>\n     <use xlink:href=\"#DejaVuSans-73\" x=\"1039.189453\"/>\n     <use xlink:href=\"#DejaVuSans-74\" x=\"1091.289062\"/>\n     <use xlink:href=\"#DejaVuSans-20\" x=\"1130.498047\"/>\n     <use xlink:href=\"#DejaVuSans-41\" x=\"1162.285156\"/>\n     <use xlink:href=\"#DejaVuSans-6c\" x=\"1230.693359\"/>\n     <use xlink:href=\"#DejaVuSans-67\" x=\"1258.476562\"/>\n     <use xlink:href=\"#DejaVuSans-6f\" x=\"1321.953125\"/>\n     <use xlink:href=\"#DejaVuSans-72\" x=\"1383.134766\"/>\n     <use xlink:href=\"#DejaVuSans-69\" x=\"1424.248047\"/>\n     <use xlink:href=\"#DejaVuSans-74\" x=\"1452.03125\"/>\n     <use xlink:href=\"#DejaVuSans-68\" x=\"1491.240234\"/>\n     <use xlink:href=\"#DejaVuSans-6d\" x=\"1554.619141\"/>\n    </g>\n   </g>\n   <g id=\"legend_1\">\n    <g id=\"patch_7\">\n     <path d=\"M 275.075 234.758125 \nL 371.58125 234.758125 \nQ 373.58125 234.758125 373.58125 232.758125 \nL 373.58125 219.08 \nQ 373.58125 217.08 371.58125 217.08 \nL 275.075 217.08 \nQ 273.075 217.08 273.075 219.08 \nL 273.075 232.758125 \nQ 273.075 234.758125 275.075 234.758125 \nz\n\" style=\"fill: #ffffff; opacity: 0.8; stroke: #cccccc; stroke-linejoin: miter\"/>\n    </g>\n    <g id=\"line2d_15\">\n     <path d=\"M 277.075 225.178437 \nL 287.075 225.178437 \nL 297.075 225.178437 \n\" style=\"fill: none; stroke: #ff7f0e; stroke-width: 1.5; stroke-linecap: square\"/>\n    </g>\n    <g id=\"text_16\">\n     <!-- AUC = 0.995 -->\n     <g transform=\"translate(305.075 228.678437)scale(0.1 -0.1)\">\n      <defs>\n       <path id=\"DejaVuSans-55\" d=\"M 556 4666 \nL 1191 4666 \nL 1191 1831 \nQ 1191 1081 1462 751 \nQ 1734 422 2344 422 \nQ 2950 422 3222 751 \nQ 3494 1081 3494 1831 \nL 3494 4666 \nL 4128 4666 \nL 4128 1753 \nQ 4128 841 3676 375 \nQ 3225 -91 2344 -91 \nQ 1459 -91 1007 375 \nQ 556 841 556 1753 \nL 556 4666 \nz\n\" transform=\"scale(0.015625)\"/>\n       <path id=\"DejaVuSans-3d\" d=\"M 678 2906 \nL 4684 2906 \nL 4684 2381 \nL 678 2381 \nL 678 2906 \nz\nM 678 1631 \nL 4684 1631 \nL 4684 1100 \nL 678 1100 \nL 678 1631 \nz\n\" transform=\"scale(0.015625)\"/>\n       <path id=\"DejaVuSans-39\" d=\"M 703 97 \nL 703 672 \nQ 941 559 1184 500 \nQ 1428 441 1663 441 \nQ 2288 441 2617 861 \nQ 2947 1281 2994 2138 \nQ 2813 1869 2534 1725 \nQ 2256 1581 1919 1581 \nQ 1219 1581 811 2004 \nQ 403 2428 403 3163 \nQ 403 3881 828 4315 \nQ 1253 4750 1959 4750 \nQ 2769 4750 3195 4129 \nQ 3622 3509 3622 2328 \nQ 3622 1225 3098 567 \nQ 2575 -91 1691 -91 \nQ 1453 -91 1209 -44 \nQ 966 3 703 97 \nz\nM 1959 2075 \nQ 2384 2075 2632 2365 \nQ 2881 2656 2881 3163 \nQ 2881 3666 2632 3958 \nQ 2384 4250 1959 4250 \nQ 1534 4250 1286 3958 \nQ 1038 3666 1038 3163 \nQ 1038 2656 1286 2365 \nQ 1534 2075 1959 2075 \nz\n\" transform=\"scale(0.015625)\"/>\n       <path id=\"DejaVuSans-35\" d=\"M 691 4666 \nL 3169 4666 \nL 3169 4134 \nL 1269 4134 \nL 1269 2991 \nQ 1406 3038 1543 3061 \nQ 1681 3084 1819 3084 \nQ 2600 3084 3056 2656 \nQ 3513 2228 3513 1497 \nQ 3513 744 3044 326 \nQ 2575 -91 1722 -91 \nQ 1428 -91 1123 -41 \nQ 819 9 494 109 \nL 494 744 \nQ 775 591 1075 516 \nQ 1375 441 1709 441 \nQ 2250 441 2565 725 \nQ 2881 1009 2881 1497 \nQ 2881 1984 2565 2268 \nQ 2250 2553 1709 2553 \nQ 1456 2553 1204 2497 \nQ 953 2441 691 2322 \nL 691 4666 \nz\n\" transform=\"scale(0.015625)\"/>\n      </defs>\n      <use xlink:href=\"#DejaVuSans-41\"/>\n      <use xlink:href=\"#DejaVuSans-55\" x=\"68.408203\"/>\n      <use xlink:href=\"#DejaVuSans-43\" x=\"141.601562\"/>\n      <use xlink:href=\"#DejaVuSans-20\" x=\"211.425781\"/>\n      <use xlink:href=\"#DejaVuSans-3d\" x=\"243.212891\"/>\n      <use xlink:href=\"#DejaVuSans-20\" x=\"327.001953\"/>\n      <use xlink:href=\"#DejaVuSans-30\" x=\"358.789062\"/>\n      <use xlink:href=\"#DejaVuSans-2e\" x=\"422.412109\"/>\n      <use xlink:href=\"#DejaVuSans-39\" x=\"454.199219\"/>\n      <use xlink:href=\"#DejaVuSans-39\" x=\"517.822266\"/>\n      <use xlink:href=\"#DejaVuSans-35\" x=\"581.445312\"/>\n     </g>\n    </g>\n   </g>\n  </g>\n </g>\n <defs>\n  <clipPath id=\"p546f47159a\">\n   <rect x=\"43.78125\" y=\"22.318125\" width=\"334.8\" height=\"217.44\"/>\n  </clipPath>\n </defs>\n</svg>\n",
      "image/png": "[encoded data removed]"
     },
     "metadata": {
      "needs_background": "light"
     }
    }
   ],
   "metadata": {}
  },
  {
   "cell_type": "code",
   "execution_count": 16,
   "source": [
    "# train and evaluate model using SVM\n",
    "clf = svm.SVC()\n",
    "clf.fit(x_train, y_train)\n",
    "y_score = clf.fit(x_train, y_train)\n",
    "clf.predict(x_test)\n",
    "predictions = clf.predict(x_test)\n",
    "\n",
    "cm = confusion_matrix(y_test, predictions)\n",
    "\n",
    "TN, FP, FN, TP = confusion_matrix(y_test, predictions).ravel()\n",
    "\n",
    "print('True Positive(TP)  = ', TP)\n",
    "print('False Positive(FP) = ', FP)\n",
    "print('True Negative(TN)  = ', TN)\n",
    "print('False Negative(FN) = ', FN)\n",
    "\n",
    "TPR = TP/(TP+FN)\n",
    "TNR = TN/(TN+FP)\n",
    "FPR = FN/(TP+FN)\n",
    "FNR = FN/(TN+FP)\n",
    "\n",
    "print('True Postive Rate (TPR) = ', TPR)\n",
    "print('True Negative Rate (TNR) = ', TNR)\n",
    "print('False Postive Rate (FPR) = ', FPR)\n",
    "print('False Negative Rate (FNR) = ', FNR)\n",
    "\n",
    "precision = precision_score(predictions, y_test)\n",
    "recall = recall_score(predictions, y_test)\n",
    "f1 = 2 * (precision * recall) / (precision + recall)\n",
    "\n",
    "print('Accuracy score: ', accuracy_score(predictions, y_test))\n",
    "print('Precision score', precision)\n",
    "print('Recall score: ', recall)\n",
    "print('F1 score: ', f1)\n",
    "\n",
    "accuracy =  (TP+TN) /(TP+FP+TN+FN)\n",
    "\n",
    "print('Accuracy of the binary classification = {:0.3f}'.format(accuracy))\n",
    "\n",
    "print(f'model score on training data: {clf.score(x_train, y_train)}')\n",
    "print(f'model score on testing data: {clf.score(x_test, y_test)}')\n",
    "\n",
    "# ROC and AUC\n",
    "# random_classifier = [0 for x in range(len(y_test))]\n",
    "# svm_probs = clf.predict_proba(x_test)\n",
    "\n",
    "# roc_auc = roc_auc_score(y_test, random_classifier)\n",
    "# svm_auc = roc_auc_score(y_test, svm_probs)\n",
    "\n",
    "#print('RF ROC curve: ROC AUC=%.3f' % (svm_auc))\n",
    "\n",
    "#roc_fpr, roc_tpr, _ = roc_curve(y_test, random_classifier)\n",
    "#svm_fpr, svm_tpr, _ = roc_curve(y_test, svm_probs)\n",
    "\n",
    "#pyplot.title(\"ROC of SVM Algorithm\")\n",
    "#pyplot.plot(roc_fpr, roc_tpr, linestyle='--')\n",
    "#pyplot.plot(svm_fpr, svm_tpr, linestyle='-', label='AUC = 0.995')\n",
    "\n",
    "\n",
    "# save the model\n",
    "to_persist = [('True Positve Rate: ', TPR), ('True Negative Rate: ', TNR), ('False Positive Rate: ', FPR), ('False Negative Rate: ', FNR), \n",
    "                ('Accuracy: ', accuracy), (('Data:', 'Prediction:'), (x_test, predictions))]\n",
    "joblib.dump(to_persist,'dataset/Model/svm_model.joblib')"
   ],
   "outputs": [
    {
     "output_type": "stream",
     "name": "stderr",
     "text": [
      "/Library/Frameworks/Python.framework/Versions/3.9/lib/python3.9/site-packages/sklearn/utils/validation.py:993: DataConversionWarning: A column-vector y was passed when a 1d array was expected. Please change the shape of y to (n_samples, ), for example using ravel().\n",
      "  y = column_or_1d(y, warn=True)\n",
      "/Library/Frameworks/Python.framework/Versions/3.9/lib/python3.9/site-packages/sklearn/utils/validation.py:993: DataConversionWarning: A column-vector y was passed when a 1d array was expected. Please change the shape of y to (n_samples, ), for example using ravel().\n",
      "  y = column_or_1d(y, warn=True)\n"
     ]
    },
    {
     "output_type": "stream",
     "name": "stdout",
     "text": [
      "True Positive(TP)  =  9277\n",
      "False Positive(FP) =  407\n",
      "True Negative(TN)  =  14728\n",
      "False Negative(FN) =  1011\n",
      "True Postive Rate (TPR) =  0.9017301710730948\n",
      "True Negative Rate (TNR) =  0.9731086884704327\n",
      "False Postive Rate (FPR) =  0.09826982892690513\n",
      "False Negative Rate (FNR) =  0.066798810703667\n",
      "Accuracy score:  0.9442237344137199\n",
      "Precision score 0.9017301710730948\n",
      "Recall score:  0.9579719124328789\n",
      "F1 score:  0.9290006008411776\n",
      "Accuracy of the binary classification = 0.944\n",
      "model score on training data: 0.9417335378805759\n",
      "model score on testing data: 0.9442237344137199\n"
     ]
    },
    {
     "output_type": "execute_result",
     "data": {
      "text/plain": [
       "['dataset/Model/svm_model.joblib']"
      ]
     },
     "metadata": {},
     "execution_count": 16
    }
   ],
   "metadata": {}
  },
  {
   "cell_type": "code",
   "execution_count": 17,
   "source": [
    "# train and evaluate model using MLP\n",
    "NN = MLPClassifier(activation='tanh', solver='lbfgs')\n",
    "NN.fit(x_train, y_train)\n",
    "predictions = NN.predict(x_test)\n",
    "cm = confusion_matrix(y_test, predictions)\n",
    "\n",
    "TN, FP, FN, TP = confusion_matrix(y_test, predictions).ravel()\n",
    "\n",
    "print('True Positive(TP)  = ', TP)\n",
    "print('False Positive(FP) = ', FP)\n",
    "print('True Negative(TN)  = ', TN)\n",
    "print('False Negative(FN) = ', FN)\n",
    "\n",
    "TPR = TP/(TP+FN)\n",
    "TNR = TN/(TN+FP)\n",
    "FPR = FN/(TP+FN)\n",
    "FNR = FN/(TN+FP)\n",
    "\n",
    "print('True Postive Rate (TPR) = ', TPR)\n",
    "print('True Negative Rate (TNR) = ', TNR)\n",
    "print('False Postive Rate (FPR) = ', FPR)\n",
    "print('False Negative Rate (FNR) = ', FNR)\n",
    "\n",
    "precision = precision_score(predictions, y_test)\n",
    "recall = recall_score(predictions, y_test)\n",
    "f1 = 2 * (precision * recall) / (precision + recall)\n",
    "\n",
    "print('Accuracy score: ', accuracy_score(predictions, y_test))\n",
    "print('Precision score', precision_score(predictions, y_test))\n",
    "print('Recall score: ', recall_score(predictions, y_test))\n",
    "print('F1 score:', f1)\n",
    "\n",
    "accuracy =  (TP+TN) /(TP+FP+TN+FN)\n",
    "\n",
    "print('Accuracy of the binary classification = {:0.3f}'.format(accuracy))\n",
    "\n",
    "# save the model\n",
    "#to_persist = [('True Positve Rate: ', TPR), ('True Negative Rate: ', TNR), ('False Positive Rate: ', FPR), ('False Negative Rate: ', FNR), \n",
    "#               ('Accuracy: ', accuracy), (('Data:', 'Prediction:'), (x_test, predictions))]\n",
    "#joblib.dump(to_persist,'dataset/Model/mlp_model.joblib')"
   ],
   "outputs": [
    {
     "output_type": "stream",
     "name": "stderr",
     "text": [
      "/Library/Frameworks/Python.framework/Versions/3.9/lib/python3.9/site-packages/sklearn/neural_network/_multilayer_perceptron.py:1109: DataConversionWarning: A column-vector y was passed when a 1d array was expected. Please change the shape of y to (n_samples, ), for example using ravel().\n",
      "  y = column_or_1d(y, warn=True)\n"
     ]
    },
    {
     "output_type": "stream",
     "name": "stdout",
     "text": [
      "True Positive(TP)  =  9559\n",
      "False Positive(FP) =  510\n",
      "True Negative(TN)  =  14625\n",
      "False Negative(FN) =  729\n",
      "True Postive Rate (TPR) =  0.9291407465007776\n",
      "True Negative Rate (TNR) =  0.9663032705649157\n",
      "False Postive Rate (FPR) =  0.0708592534992224\n",
      "False Negative Rate (FNR) =  0.04816650148662042\n",
      "Accuracy score:  0.951264602918617\n",
      "Precision score 0.9291407465007776\n",
      "Recall score:  0.9493494885291489\n",
      "F1 score: 0.939136414992386\n",
      "Accuracy of the binary classification = 0.951\n"
     ]
    },
    {
     "output_type": "stream",
     "name": "stderr",
     "text": [
      "/Library/Frameworks/Python.framework/Versions/3.9/lib/python3.9/site-packages/sklearn/neural_network/_multilayer_perceptron.py:549: ConvergenceWarning: lbfgs failed to converge (status=1):\n",
      "STOP: TOTAL NO. of ITERATIONS REACHED LIMIT.\n",
      "\n",
      "Increase the number of iterations (max_iter) or scale the data as shown in:\n",
      "    https://scikit-learn.org/stable/modules/preprocessing.html\n",
      "  self.n_iter_ = _check_optimize_result(\"lbfgs\", opt_res, self.max_iter)\n"
     ]
    }
   ],
   "metadata": {}
  },
  {
   "cell_type": "code",
   "execution_count": 18,
   "source": [
    "# train and evaluate model using KNN\n",
    "KNN = KNeighborsClassifier(n_neighbors=5)\n",
    "KNN.fit(x_train, y_train)\n",
    "predictions = KNN.predict(x_test)\n",
    "cm = confusion_matrix(y_test, predictions)\n",
    "\n",
    "TN, FP, FN, TP = confusion_matrix(y_test, predictions).ravel()\n",
    "\n",
    "print('True Positive(TP)  = ', TP)\n",
    "print('False Positive(FP) = ', FP)\n",
    "print('True Negative(TN)  = ', TN)\n",
    "print('False Negative(FN) = ', FN)\n",
    "\n",
    "TPR = TP/(TP+FN)\n",
    "TNR = TN/(TN+FP)\n",
    "FPR = FN/(TP+FN)\n",
    "FNR = FN/(TN+FP)\n",
    "\n",
    "print('True Postive Rate (TPR) = ', TPR)\n",
    "print('True Negative Rate (TNR) = ', TNR)\n",
    "print('False Postive Rate (FPR) = ', FPR)\n",
    "print('False Negative Rate (FNR) = ', FNR)\n",
    "\n",
    "precision = precision_score(predictions, y_test)\n",
    "recall = recall_score(predictions, y_test)\n",
    "f1 = 2 * (precision * recall) / (precision + recall)\n",
    "\n",
    "print('Accuracy score: ', accuracy_score(predictions, y_test))\n",
    "print('Precision score', precision_score(predictions, y_test))\n",
    "print('Recall score: ', recall_score(predictions, y_test))\n",
    "print('F1 score: ', f1)\n",
    "\n",
    "accuracy =  (TP+TN) /(TP+FP+TN+FN)\n",
    "\n",
    "print('Accuracy of the binary classification = {:0.3f}'.format(accuracy))\n",
    "\n",
    "for i,v in enumerate(importance):\n",
    "\tprint('Feature: %0d, Score: %.5f' % (i,v))\n",
    "\n",
    "to_persist = [('True Positve Rate: ', TPR), ('True Negative Rate: ', TNR), ('False Positive Rate: ', FPR), ('False Negative Rate: ', FNR), \n",
    "                ('Accuracy: ', accuracy), (('Data:', 'Prediction:'), (x_test, predictions))]\n",
    "joblib.dump(to_persist,'dataset/Model/knn_model.joblib')"
   ],
   "outputs": [
    {
     "output_type": "stream",
     "name": "stderr",
     "text": [
      "/Library/Frameworks/Python.framework/Versions/3.9/lib/python3.9/site-packages/sklearn/neighbors/_classification.py:198: DataConversionWarning: A column-vector y was passed when a 1d array was expected. Please change the shape of y to (n_samples,), for example using ravel().\n",
      "  return self._fit(X, y)\n"
     ]
    },
    {
     "output_type": "stream",
     "name": "stdout",
     "text": [
      "True Positive(TP)  =  9895\n",
      "False Positive(FP) =  168\n",
      "True Negative(TN)  =  14967\n",
      "False Negative(FN) =  393\n",
      "True Postive Rate (TPR) =  0.9618001555209953\n",
      "True Negative Rate (TNR) =  0.9888999008919722\n",
      "False Postive Rate (FPR) =  0.038199844479004666\n",
      "False Negative Rate (FNR) =  0.025966303270564917\n",
      "Accuracy score:  0.9779333674231995\n",
      "Precision score 0.9618001555209953\n",
      "Recall score:  0.9833051773824903\n",
      "F1 score:  0.9724337870374921\n",
      "Accuracy of the binary classification = 0.978\n",
      "Feature: 0, Score: 0.63182\n",
      "Feature: 1, Score: 0.16867\n",
      "Feature: 2, Score: 0.19951\n"
     ]
    },
    {
     "output_type": "execute_result",
     "data": {
      "text/plain": [
       "['dataset/Model/knn_model.joblib']"
      ]
     },
     "metadata": {},
     "execution_count": 18
    }
   ],
   "metadata": {}
  },
  {
   "cell_type": "code",
   "execution_count": 19,
   "source": [
    "# train and evaluate model using decision trees\n",
    "\n",
    "dt = tree.DecisionTreeClassifier()\n",
    "dt.fit(x_train, y_train)\n",
    "predictions = dt.predict(x_test)\n",
    "\n",
    "cm = confusion_matrix(y_test, predictions)\n",
    "\n",
    "TN, FP, FN, TP = confusion_matrix(y_test, predictions).ravel()\n",
    "\n",
    "print('True Positive(TP)  = ', TP)\n",
    "print('False Positive(FP) = ', FP)\n",
    "print('True Negative(TN)  = ', TN)\n",
    "print('False Negative(FN) = ', FN)\n",
    "\n",
    "TPR = TP/(TP+FN)\n",
    "TNR = TN/(TN+FP)\n",
    "FPR = FN/(TP+FN)\n",
    "FNR = FN/(TN+FP)\n",
    "\n",
    "print('True Postive Rate (TPR) = ', TPR)\n",
    "print('True Negative Rate (TNR) = ', TNR)\n",
    "print('False Postive Rate (FPR) = ', FPR)\n",
    "print('False Negative Rate (FNR) = ', FNR)\n",
    "\n",
    "precision = precision_score(predictions, y_test)\n",
    "recall = recall_score(predictions, y_test)\n",
    "f1 = 2 * (precision * recall) / (precision + recall)\n",
    "\n",
    "print('Accuracy score: ', accuracy_score(predictions, y_test))\n",
    "print('Precision score', precision_score(predictions, y_test))\n",
    "print('Recall score: ', recall_score(predictions, y_test))\n",
    "print('F1 score: ', f1)\n",
    "\n",
    "accuracy =  (TP+TN) /(TP+FP+TN+FN)\n",
    "\n",
    "print('Accuracy of the binary classification = {:0.3f}'.format(accuracy))\n",
    "\n",
    "# get feature importance\n",
    "importance = dt.feature_importances_\n",
    "\n",
    "for i,v in enumerate(importance):\n",
    "\tprint('Feature: %0d, Score: %.5f' % (i,v))\n",
    "\n",
    "to_persist = [('True Positve Rate: ', TPR), ('True Negative Rate: ', TNR), ('False Positive Rate: ', FPR), ('False Negative Rate: ', FNR), \n",
    "                ('Accuracy: ', accuracy), (x_test, predictions)]\n",
    "joblib.dump(to_persist,'dataset/Model/dt_model.joblib')"
   ],
   "outputs": [
    {
     "output_type": "stream",
     "name": "stdout",
     "text": [
      "True Positive(TP)  =  10157\n",
      "False Positive(FP) =  123\n",
      "True Negative(TN)  =  15012\n",
      "False Negative(FN) =  131\n",
      "True Postive Rate (TPR) =  0.9872667185069984\n",
      "True Negative Rate (TNR) =  0.9918731417244797\n",
      "False Postive Rate (FPR) =  0.012733281493001555\n",
      "False Negative Rate (FNR) =  0.008655434423521638\n",
      "Accuracy score:  0.9900090469260119\n",
      "Precision score 0.9872667185069984\n",
      "Recall score:  0.988035019455253\n",
      "F1 score:  0.987650719564372\n",
      "Accuracy of the binary classification = 0.990\n",
      "Feature: 0, Score: 0.88800\n",
      "Feature: 1, Score: 0.09031\n",
      "Feature: 2, Score: 0.02169\n"
     ]
    },
    {
     "output_type": "execute_result",
     "data": {
      "text/plain": [
       "['dataset/Model/dt_model.joblib']"
      ]
     },
     "metadata": {},
     "execution_count": 19
    }
   ],
   "metadata": {}
  }
 ],
 "metadata": {
  "orig_nbformat": 4,
  "language_info": {
   "name": "python",
   "version": "3.9.7",
   "mimetype": "text/x-python",
   "codemirror_mode": {
    "name": "ipython",
    "version": 3
   },
   "pygments_lexer": "ipython3",
   "nbconvert_exporter": "python",
   "file_extension": ".py"
  },
  "kernelspec": {
   "name": "python3",
   "display_name": "Python 3.9.7 64-bit"
  },
  "interpreter": {
   "hash": "397704579725e15f5c7cb49fe5f0341eb7531c82d19f2c29d197e8b64ab5776b"
  }
 },
 "nbformat": 4,
 "nbformat_minor": 2
}